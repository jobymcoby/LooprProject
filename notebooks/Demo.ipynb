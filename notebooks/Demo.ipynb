{
 "cells": [
  {
   "cell_type": "code",
   "execution_count": 2,
   "metadata": {},
   "outputs": [],
   "source": [
    "import os\n",
    "import PIL\n",
    "import cv2\n",
    "import scipy\n",
    "import pathlib\n",
    "import numpy as np\n",
    "import tensorflow as tf\n",
    "import PIL.Image as Image\n",
    "import tqdm as notebook_tqdm\n",
    "import tensorflow_datasets as tfds\n",
    "from matplotlib import pyplot as plt"
   ]
  },
  {
   "cell_type": "code",
   "execution_count": 10,
   "metadata": {},
   "outputs": [
    {
     "data": {
      "text/plain": [
       "1"
      ]
     },
     "execution_count": 10,
     "metadata": {},
     "output_type": "execute_result"
    }
   ],
   "source": [
    "dataset_folder = \"..\\\\archive\"  \n",
    "\n",
    "defect_images_folder = os.path.join(dataset_folder, \"Defect_images\\\\*\")\n",
    "defect_files_ds = tf.data.Dataset.list_files(defect_images_folder, shuffle = 'False')\n",
    "\n",
    "mask_images_folder = os.path.join(dataset_folder, \"Mask_images\")\n",
    "\n",
    "# flatten no defect folder  \n",
    "no_defect_images_folder = os.path.join(dataset_folder, \"NODefect_images\")\n",
    "no_defect_files_ds = tf.data.Dataset.list_files(no_defect_images_folder, shuffle = 'False')\n",
    "\n",
    "\n",
    "len(defect_files_ds)\n",
    "len(no_defect_files_ds)"
   ]
  },
  {
   "cell_type": "code",
   "execution_count": 4,
   "metadata": {},
   "outputs": [
    {
     "name": "stdout",
     "output_type": "stream",
     "text": [
      "106\n"
     ]
    }
   ],
   "source": [
    "print(len(defect_files_ds))"
   ]
  },
  {
   "cell_type": "code",
   "execution_count": 8,
   "metadata": {},
   "outputs": [],
   "source": [
    "def get_labels(file_path):\n",
    "    file_name = tf.strings.split(file_path, sep='\\\\')[-1]\n",
    "    image_code = tf.strings.split(file_name, sep='_')\n",
    "\n",
    "    index_code = image_code[0]\n",
    "    index = tf.strings.to_number(\n",
    "        index_code,\n",
    "        tf.int32\n",
    "    )\n",
    "\n",
    "    defect_code = image_code[1]\n",
    "    defect_type = tf.strings.to_number(\n",
    "        defect_code,\n",
    "        tf.int32\n",
    "    )\n",
    "\n",
    "    fabric_code = tf.strings.split(image_code[2], sep='.')[0]\n",
    "    fabric_type = tf.strings.to_number(\n",
    "        fabric_code,\n",
    "        tf.int32\n",
    "    )\n",
    "    \n",
    "    return index, defect_type, fabric_type\n",
    "\n",
    "def process_img(file_path):\n",
    "    index, defect_type, fabric_type = get_labels(file_path)\n",
    "    img = tf.io.read_file(file_path)\n",
    "    img = tf.io.decode_png(img)\n",
    "    \n",
    "    return img, index, defect_type, fabric_type\n",
    "\n",
    "a = defect_files_ds.map(process_img)"
   ]
  },
  {
   "cell_type": "code",
   "execution_count": 7,
   "metadata": {},
   "outputs": [
    {
     "name": "stdout",
     "output_type": "stream",
     "text": [
      "tf.Tensor(b'..\\\\archive\\\\Defect_images\\\\0098_019_02.png', shape=(), dtype=string)\n"
     ]
    }
   ],
   "source": [
    "b = defect_files_ds.take(1)\n",
    "for i in b:\n",
    "    print(i)"
   ]
  },
  {
   "cell_type": "code",
   "execution_count": 9,
   "metadata": {},
   "outputs": [
    {
     "name": "stdout",
     "output_type": "stream",
     "text": [
      "(<tf.Tensor: shape=(256, 4096, 1), dtype=uint8, numpy=\n",
      "array([[[255],\n",
      "        [255],\n",
      "        [255],\n",
      "        ...,\n",
      "        [143],\n",
      "        [141],\n",
      "        [127]],\n",
      "\n",
      "       [[255],\n",
      "        [255],\n",
      "        [255],\n",
      "        ...,\n",
      "        [163],\n",
      "        [153],\n",
      "        [142]],\n",
      "\n",
      "       [[255],\n",
      "        [255],\n",
      "        [255],\n",
      "        ...,\n",
      "        [151],\n",
      "        [156],\n",
      "        [150]],\n",
      "\n",
      "       ...,\n",
      "\n",
      "       [[255],\n",
      "        [255],\n",
      "        [255],\n",
      "        ...,\n",
      "        [146],\n",
      "        [134],\n",
      "        [123]],\n",
      "\n",
      "       [[255],\n",
      "        [255],\n",
      "        [255],\n",
      "        ...,\n",
      "        [140],\n",
      "        [139],\n",
      "        [127]],\n",
      "\n",
      "       [[255],\n",
      "        [255],\n",
      "        [255],\n",
      "        ...,\n",
      "        [132],\n",
      "        [137],\n",
      "        [127]]], dtype=uint8)>, <tf.Tensor: shape=(), dtype=int32, numpy=39>, <tf.Tensor: shape=(), dtype=int32, numpy=19>, <tf.Tensor: shape=(), dtype=int32, numpy=2>)\n"
     ]
    }
   ],
   "source": [
    "b = a.take(1)\n",
    "for i in b:\n",
    "    print(i)"
   ]
  },
  {
   "cell_type": "code",
   "execution_count": null,
   "metadata": {},
   "outputs": [],
   "source": [
    "# Defect codes\n",
    "DEFECT_CODES = {\n",
    "    0:  'No defect',\n",
    "    2:\t'Broken end',\n",
    "    6:\t'Broken yarn',\n",
    "    10:\t'Broken pick',\n",
    "    16:\t'Weft curling',\n",
    "    19:\t'Fuzzyball',\n",
    "    22:\t'Cut selvage',\n",
    "    23:\t'Crease',\n",
    "    25:\t'Warp ball',\n",
    "    27:\t'Knots',\n",
    "    29:\t'Contamination',\n",
    "    30:\t'Nep',\n",
    "    36:\t'Weft crack'\n",
    "}\n",
    "\n"
   ]
  },
  {
   "cell_type": "code",
   "execution_count": null,
   "metadata": {},
   "outputs": [],
   "source": [
    "len(defect_files_ds)"
   ]
  },
  {
   "cell_type": "code",
   "execution_count": null,
   "metadata": {},
   "outputs": [],
   "source": [
    "img = Image.open(\"..\\\\archive\\\\Defect_images\\\\0003_002_00.png\")\n",
    "img"
   ]
  },
  {
   "cell_type": "code",
   "execution_count": null,
   "metadata": {},
   "outputs": [],
   "source": [
    "img_gen = tf.keras.preprocessing.image.ImageDataGenerator(rescale=1./255, rotation_range=20)\n",
    "images, labels = next(img_gen.flow_from_directory(dataset_folder))"
   ]
  },
  {
   "cell_type": "code",
   "execution_count": null,
   "metadata": {},
   "outputs": [],
   "source": [
    "print(images.dtype, images.shape)\n",
    "print(labels.dtype, labels.shape)"
   ]
  },
  {
   "cell_type": "code",
   "execution_count": null,
   "metadata": {},
   "outputs": [],
   "source": [
    "image_ds = tf.data.Dataset.list_files(defect_images_folder, shuffle = 'False')\n",
    "# view the files\n",
    "for i in image_ds.take(5):\n",
    "    print(i.numpy())"
   ]
  },
  {
   "cell_type": "markdown",
   "metadata": {},
   "source": [
    "Feature Engineering"
   ]
  },
  {
   "cell_type": "markdown",
   "metadata": {},
   "source": [
    "Supervised Learning"
   ]
  },
  {
   "cell_type": "markdown",
   "metadata": {},
   "source": [
    "Unsupervised or Semisupervised Learning"
   ]
  },
  {
   "cell_type": "markdown",
   "metadata": {},
   "source": [
    "Model Deployment/Evaluation"
   ]
  }
 ],
 "metadata": {
  "kernelspec": {
   "display_name": "myproject",
   "language": "python",
   "name": "myproject"
  },
  "language_info": {
   "codemirror_mode": {
    "name": "ipython",
    "version": 3
   },
   "file_extension": ".py",
   "mimetype": "text/x-python",
   "name": "python",
   "nbconvert_exporter": "python",
   "pygments_lexer": "ipython3",
   "version": "3.10.2"
  },
  "orig_nbformat": 4,
  "vscode": {
   "interpreter": {
    "hash": "9ae3e96f051f2eeecd070002d1349f78b8d691ece046e9b1310bb76dd233fc60"
   }
  }
 },
 "nbformat": 4,
 "nbformat_minor": 2
}
